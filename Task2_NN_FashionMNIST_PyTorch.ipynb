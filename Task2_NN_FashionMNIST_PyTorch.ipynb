{
  "cells": [
    {
      "cell_type": "markdown",
      "metadata": {
        "id": "view-in-github",
        "colab_type": "text"
      },
      "source": [
        "<a href=\"https://colab.research.google.com/github/sanskruty/ML-1-Assignment-1/blob/main/Task2_NN_FashionMNIST_PyTorch.ipynb\" target=\"_parent\"><img src=\"https://colab.research.google.com/assets/colab-badge.svg\" alt=\"Open In Colab\"/></a>"
      ]
    },
    {
      "cell_type": "markdown",
      "metadata": {
        "id": "-j9dSzZTgUrS"
      },
      "source": [
        "# Assignment 2\n",
        "## Create a Neural Network using PyTorch for FashionMNIST dataset"
      ]
    },
    {
      "cell_type": "code",
      "execution_count": 6,
      "metadata": {
        "id": "IfX1kl-5gUrX"
      },
      "outputs": [],
      "source": [
        "# pip install torch torchvision torchaudio"
      ]
    },
    {
      "cell_type": "code",
      "execution_count": null,
      "metadata": {
        "id": "VUw5zgGhgUrZ"
      },
      "outputs": [],
      "source": [
        "%matplotlib inline"
      ]
    },
    {
      "cell_type": "markdown",
      "metadata": {
        "id": "C2PqpEYLgUra"
      },
      "source": [
        "\n",
        "\n",
        "# NN with PyTorch\n",
        "\n",
        "PyTorch has two primitives to work with data <https://pytorch.org/docs/stable/data.html>: \n",
        "- ``torch.utils.data.DataLoader`` and \n",
        "- ``torch.utils.data.Dataset``.\n",
        "\n",
        "``Dataset`` stores the samples and their corresponding labels, and ``DataLoader`` wraps an iterable around\n",
        "the ``Dataset``.\n",
        "\n",
        "\n"
      ]
    },
    {
      "cell_type": "markdown",
      "metadata": {
        "id": "Q4BwBbPtgUra"
      },
      "source": [
        "### Import the necessary libraries"
      ]
    },
    {
      "cell_type": "code",
      "execution_count": 22,
      "metadata": {
        "id": "xdX_GYRAgUrb"
      },
      "outputs": [],
      "source": [
        "import torch\n",
        "from torch.utils.data import Dataset\n",
        "from torchvision import datasets\n",
        "from torchvision.transforms import ToTensor, Lambda\n",
        "import matplotlib.pyplot as plt\n",
        "from torch import nn\n",
        "import torchvision.models as models"
      ]
    },
    {
      "cell_type": "markdown",
      "metadata": {
        "id": "5eQvikz5gUrb"
      },
      "source": [
        "PyTorch offers domain-specific libraries such as \n",
        "- `TorchText <https://pytorch.org/text/stable/index.html>`_, \n",
        "- `TorchVision <https://pytorch.org/vision/stable/index.html>`_, and \n",
        "- `TorchAudio <https://pytorch.org/audio/stable/index.html>`_, \n",
        "all of which include datasets. For this tutorial, we  will be using a TorchVision dataset.\n",
        "\n",
        "The ``torchvision.datasets`` module contains ``Dataset`` objects for many real-world vision data like \n",
        "CIFAR, COCO (`full list here <https://pytorch.org/docs/stable/torchvision/datasets.html>`_). In this tutorial, we\n",
        "use the FashionMNIST dataset. Every TorchVision ``Dataset`` includes two arguments: ``transform`` and\n",
        "``target_transform`` to modify the samples and labels respectively.\n",
        "\n"
      ]
    },
    {
      "cell_type": "markdown",
      "metadata": {
        "id": "DI9e-bAegUrc"
      },
      "source": [
        "### Download training data from open datasets"
      ]
    },
    {
      "cell_type": "code",
      "execution_count": 10,
      "metadata": {
        "id": "Pn_eZHlFgUrd"
      },
      "outputs": [],
      "source": [
        "training_data = datasets.FashionMNIST(\n",
        "    root=\"data\",\n",
        "    train=True,\n",
        "    download=True,\n",
        "    transform=ToTensor()\n",
        ")"
      ]
    },
    {
      "cell_type": "markdown",
      "metadata": {
        "id": "Xc9spvOQgUrd"
      },
      "source": [
        "### Download test data from open datasets"
      ]
    },
    {
      "cell_type": "code",
      "execution_count": 8,
      "metadata": {
        "id": "Lqp2HV3OgUre"
      },
      "outputs": [],
      "source": [
        "test_data = datasets.FashionMNIST(\n",
        "    root=\"data\",\n",
        "    train=False,\n",
        "    download=True,\n",
        "    transform=ToTensor()\n",
        ")"
      ]
    },
    {
      "cell_type": "markdown",
      "metadata": {
        "id": "bUAXrD8bgUre"
      },
      "source": [
        "We pass the ``Dataset`` as an argument to ``DataLoader``. This wraps an iterable over our dataset, and supports\n",
        "automatic batching, sampling, shuffling and multiprocess data loading. Here we define a batch size of 64, i.e. each element \n",
        "in the dataloader iterable will return a batch of 64 features and labels.\n",
        "\n"
      ]
    },
    {
      "cell_type": "code",
      "execution_count": 9,
      "metadata": {
        "id": "_sCqhZIJgUre"
      },
      "outputs": [],
      "source": [
        "from torch.utils.data import DataLoader\n",
        "\n",
        "bs = 64\n",
        "\n",
        "# Create data loaders\n",
        "\n",
        "train_dataloader = DataLoader(training_data, batch_size=bs, shuffle=True)\n",
        "test_dataloader = DataLoader(test_data, batch_size=bs, shuffle=True)\n"
      ]
    },
    {
      "cell_type": "markdown",
      "metadata": {
        "id": "_8GaJeLIgUrf"
      },
      "source": [
        "--------------\n",
        "\n",
        "\n"
      ]
    },
    {
      "cell_type": "markdown",
      "metadata": {
        "id": "oCvLnX-_gUrf"
      },
      "source": [
        "Creating Models\n",
        "------------------\n",
        "To define a neural network in PyTorch, we create a class that inherits \n",
        "from `nn.Module <https://pytorch.org/docs/stable/generated/torch.nn.Module.html>`_. \n",
        "\n",
        "We define the layers of the network in the ``__init__`` function and specify how data will pass through the network in the ``forward`` function. \n",
        "\n",
        "To accelerate operations in the neural network, we move it to the GPU if available.\n",
        "\n"
      ]
    },
    {
      "cell_type": "markdown",
      "metadata": {
        "id": "bSU7zSc8gUrf"
      },
      "source": [
        "### Get cpu or gpu device for training"
      ]
    },
    {
      "cell_type": "code",
      "execution_count": 11,
      "metadata": {
        "id": "70fnM5VZgUrg"
      },
      "outputs": [],
      "source": [
        "if torch.cuda.is_available():\n",
        "  train_dataloader = tensor.to('cuda')"
      ]
    },
    {
      "cell_type": "markdown",
      "metadata": {
        "id": "nNSL9r9fgUrg"
      },
      "source": [
        "### Define model\n",
        "- Flatten the image\n",
        "- Sequential Layers\n",
        "    - Linear layer\n",
        "    - ReLU layer"
      ]
    },
    {
      "cell_type": "code",
      "execution_count": 12,
      "metadata": {
        "id": "8kdPj3JTgUrg"
      },
      "outputs": [],
      "source": [
        "\n",
        "class NeuralNetwork(nn.Module):\n",
        "    def __init__(self):\n",
        "        super(NeuralNetwork, self).__init__()\n",
        "        self.flatten = nn.Flatten()\n",
        "        self.linear_relu_stack = nn.Sequential(\n",
        "            nn.Linear(28*28, 512),\n",
        "            nn.ReLU(),\n",
        "            nn.Linear(512, 512),\n",
        "            nn.ReLU(),\n",
        "            nn.Linear(512, 10),\n",
        "            nn.ReLU()\n",
        "        )\n",
        "\n",
        "    def forward(self, x):\n",
        "        x = self.flatten(x)\n",
        "        logits = self.linear_relu_stack(x)\n",
        "        return logits\n",
        "\n",
        "model = NeuralNetwork()"
      ]
    },
    {
      "cell_type": "markdown",
      "metadata": {
        "id": "GmcG-vjkgUrg"
      },
      "source": [
        "--------------\n",
        "\n",
        "\n"
      ]
    },
    {
      "cell_type": "markdown",
      "metadata": {
        "id": "btb2ubjhgUrh"
      },
      "source": [
        "Optimizing the Model Parameters\n",
        "----------------------------------------\n",
        "To train a model, we need\n",
        "- `loss function` <https://pytorch.org/docs/stable/nn.html#loss-functions>\n",
        "- `optimizer` <https://pytorch.org/docs/stable/optim.html> \n",
        "\n"
      ]
    },
    {
      "cell_type": "code",
      "execution_count": 17,
      "metadata": {
        "id": "RXg-uvHGgUrh"
      },
      "outputs": [],
      "source": [
        "learning_rate = 5e-3\n",
        "batch_size = 32\n",
        "epochs = 25\n",
        "loss_fn = nn.CrossEntropyLoss()\n",
        "optimizer = torch.optim.SGD(model.parameters(), lr=learning_rate)"
      ]
    },
    {
      "cell_type": "markdown",
      "metadata": {
        "id": "mG0lGoQCgUrh"
      },
      "source": [
        "In a single training loop, the model makes predictions on the training dataset (fed to it in batches), and \n",
        "backpropagates the prediction error to adjust the model's parameters. \n",
        "\n"
      ]
    },
    {
      "cell_type": "code",
      "execution_count": 18,
      "metadata": {
        "id": "Hil7r4ThgUrh"
      },
      "outputs": [],
      "source": [
        "def train_loop(dataloader, model, loss_fn, optimizer):\n",
        "    size = len(dataloader.dataset)\n",
        "    for batch, (X, y) in enumerate(dataloader):        \n",
        "        # Compute prediction and loss\n",
        "        pred = model(X)\n",
        "        loss = loss_fn(pred, y)\n",
        "        \n",
        "        # Backpropagation\n",
        "        optimizer.zero_grad()\n",
        "        loss.backward()\n",
        "        optimizer.step()\n",
        "\n",
        "        if batch % 100 == 0:\n",
        "            loss, current = loss.item(), batch * len(X)\n",
        "            print(f\"loss: {loss:>7f}  [{current:>5d}/{size:>5d}]\")"
      ]
    },
    {
      "cell_type": "markdown",
      "metadata": {
        "id": "czQ0ajkPgUri"
      },
      "source": [
        "We also check the model's performance against the test dataset to ensure it is learning.\n",
        "\n"
      ]
    },
    {
      "cell_type": "code",
      "execution_count": 19,
      "metadata": {
        "id": "0jw94VTpgUri"
      },
      "outputs": [],
      "source": [
        "def test_loop(dataloader, model, loss_fn):\n",
        "    size = len(dataloader.dataset)\n",
        "    test_loss, correct = 0, 0\n",
        "\n",
        "    with torch.no_grad():\n",
        "        for X, y in dataloader:\n",
        "            pred = model(X)\n",
        "            test_loss += loss_fn(pred, y).item()\n",
        "            correct += (pred.argmax(1) == y).type(torch.float).sum().item()\n",
        "            \n",
        "    test_loss /= size\n",
        "    correct /= size\n",
        "    print(f\"Test Error: \\n Accuracy: {(100*correct):>0.1f}%, Avg loss: {test_loss:>8f} \\n\")"
      ]
    },
    {
      "cell_type": "markdown",
      "metadata": {
        "id": "Ryip1Y81gUri"
      },
      "source": [
        "The training process is conducted over several iterations (*epochs*). During each epoch, the model learns \n",
        "parameters to make better predictions. We print the model's accuracy and loss at each epoch; we'd like to see the\n",
        "accuracy increase and the loss decrease with every epoch.\n",
        "\n"
      ]
    },
    {
      "cell_type": "code",
      "execution_count": 20,
      "metadata": {
        "colab": {
          "base_uri": "https://localhost:8080/"
        },
        "id": "4UM-7wDygUri",
        "outputId": "66859015-0c68-4efd-86da-3304061394a2"
      },
      "outputs": [
        {
          "output_type": "stream",
          "name": "stdout",
          "text": [
            "Epoch 1\n",
            "-------------------------------\n",
            "loss: 2.004433  [    0/60000]\n",
            "loss: 1.997140  [ 6400/60000]\n",
            "loss: 1.810298  [12800/60000]\n",
            "loss: 2.020306  [19200/60000]\n",
            "loss: 1.807138  [25600/60000]\n",
            "loss: 1.730054  [32000/60000]\n",
            "loss: 1.701079  [38400/60000]\n",
            "loss: 1.654338  [44800/60000]\n",
            "loss: 1.632774  [51200/60000]\n",
            "loss: 1.497338  [57600/60000]\n",
            "Test Error: \n",
            " Accuracy: 48.9%, Avg loss: 0.025584 \n",
            "\n",
            "Epoch 2\n",
            "-------------------------------\n",
            "loss: 1.532953  [    0/60000]\n",
            "loss: 1.450158  [ 6400/60000]\n",
            "loss: 1.416183  [12800/60000]\n",
            "loss: 1.632179  [19200/60000]\n",
            "loss: 1.625107  [25600/60000]\n",
            "loss: 1.500213  [32000/60000]\n",
            "loss: 1.260692  [38400/60000]\n",
            "loss: 1.172436  [44800/60000]\n",
            "loss: 1.397828  [51200/60000]\n",
            "loss: 1.412997  [57600/60000]\n",
            "Test Error: \n",
            " Accuracy: 51.7%, Avg loss: 0.021745 \n",
            "\n",
            "Epoch 3\n",
            "-------------------------------\n",
            "loss: 1.493867  [    0/60000]\n",
            "loss: 1.487898  [ 6400/60000]\n",
            "loss: 1.308868  [12800/60000]\n",
            "loss: 1.561362  [19200/60000]\n",
            "loss: 1.297170  [25600/60000]\n",
            "loss: 1.302579  [32000/60000]\n",
            "loss: 1.565161  [38400/60000]\n",
            "loss: 1.223980  [44800/60000]\n",
            "loss: 1.301911  [51200/60000]\n",
            "loss: 1.312549  [57600/60000]\n",
            "Test Error: \n",
            " Accuracy: 54.9%, Avg loss: 0.020279 \n",
            "\n",
            "Epoch 4\n",
            "-------------------------------\n",
            "loss: 1.212728  [    0/60000]\n",
            "loss: 1.076070  [ 6400/60000]\n",
            "loss: 1.467846  [12800/60000]\n",
            "loss: 1.290660  [19200/60000]\n",
            "loss: 1.265383  [25600/60000]\n",
            "loss: 1.267066  [32000/60000]\n",
            "loss: 1.240149  [38400/60000]\n",
            "loss: 1.080117  [44800/60000]\n",
            "loss: 1.287431  [51200/60000]\n",
            "loss: 1.168285  [57600/60000]\n",
            "Test Error: \n",
            " Accuracy: 55.7%, Avg loss: 0.019368 \n",
            "\n",
            "Epoch 5\n",
            "-------------------------------\n",
            "loss: 1.232469  [    0/60000]\n",
            "loss: 1.452145  [ 6400/60000]\n",
            "loss: 1.113775  [12800/60000]\n",
            "loss: 1.131289  [19200/60000]\n",
            "loss: 1.065207  [25600/60000]\n",
            "loss: 1.031165  [32000/60000]\n",
            "loss: 1.206463  [38400/60000]\n",
            "loss: 1.186610  [44800/60000]\n",
            "loss: 1.255333  [51200/60000]\n",
            "loss: 1.236833  [57600/60000]\n",
            "Test Error: \n",
            " Accuracy: 56.8%, Avg loss: 0.018828 \n",
            "\n",
            "Epoch 6\n",
            "-------------------------------\n",
            "loss: 1.220716  [    0/60000]\n",
            "loss: 1.357404  [ 6400/60000]\n",
            "loss: 1.157707  [12800/60000]\n",
            "loss: 1.252341  [19200/60000]\n",
            "loss: 1.178484  [25600/60000]\n",
            "loss: 1.366878  [32000/60000]\n",
            "loss: 1.483550  [38400/60000]\n",
            "loss: 1.316319  [44800/60000]\n",
            "loss: 1.393824  [51200/60000]\n",
            "loss: 0.868481  [57600/60000]\n",
            "Test Error: \n",
            " Accuracy: 57.6%, Avg loss: 0.018408 \n",
            "\n",
            "Epoch 7\n",
            "-------------------------------\n",
            "loss: 1.373033  [    0/60000]\n",
            "loss: 1.137558  [ 6400/60000]\n",
            "loss: 1.006491  [12800/60000]\n",
            "loss: 1.253821  [19200/60000]\n",
            "loss: 1.084662  [25600/60000]\n",
            "loss: 1.217872  [32000/60000]\n",
            "loss: 1.135437  [38400/60000]\n",
            "loss: 1.275117  [44800/60000]\n",
            "loss: 1.241253  [51200/60000]\n",
            "loss: 1.237110  [57600/60000]\n",
            "Test Error: \n",
            " Accuracy: 57.4%, Avg loss: 0.018264 \n",
            "\n",
            "Epoch 8\n",
            "-------------------------------\n",
            "loss: 1.462296  [    0/60000]\n",
            "loss: 1.003626  [ 6400/60000]\n",
            "loss: 1.264067  [12800/60000]\n",
            "loss: 0.965237  [19200/60000]\n",
            "loss: 1.147109  [25600/60000]\n",
            "loss: 1.191943  [32000/60000]\n",
            "loss: 0.929608  [38400/60000]\n",
            "loss: 1.104708  [44800/60000]\n",
            "loss: 1.299791  [51200/60000]\n",
            "loss: 1.190546  [57600/60000]\n",
            "Test Error: \n",
            " Accuracy: 57.9%, Avg loss: 0.017979 \n",
            "\n",
            "Epoch 9\n",
            "-------------------------------\n",
            "loss: 1.249323  [    0/60000]\n",
            "loss: 0.933031  [ 6400/60000]\n",
            "loss: 1.208007  [12800/60000]\n",
            "loss: 1.193846  [19200/60000]\n",
            "loss: 1.079572  [25600/60000]\n",
            "loss: 1.077102  [32000/60000]\n",
            "loss: 1.355370  [38400/60000]\n",
            "loss: 0.902801  [44800/60000]\n",
            "loss: 1.152493  [51200/60000]\n",
            "loss: 0.907977  [57600/60000]\n",
            "Test Error: \n",
            " Accuracy: 58.6%, Avg loss: 0.017787 \n",
            "\n",
            "Epoch 10\n",
            "-------------------------------\n",
            "loss: 1.128417  [    0/60000]\n",
            "loss: 1.023561  [ 6400/60000]\n",
            "loss: 0.974496  [12800/60000]\n",
            "loss: 1.133875  [19200/60000]\n",
            "loss: 0.774479  [25600/60000]\n",
            "loss: 1.148564  [32000/60000]\n",
            "loss: 1.045177  [38400/60000]\n",
            "loss: 1.067915  [44800/60000]\n",
            "loss: 1.024549  [51200/60000]\n",
            "loss: 1.276847  [57600/60000]\n",
            "Test Error: \n",
            " Accuracy: 58.6%, Avg loss: 0.017624 \n",
            "\n",
            "Epoch 11\n",
            "-------------------------------\n",
            "loss: 0.984855  [    0/60000]\n",
            "loss: 1.018987  [ 6400/60000]\n",
            "loss: 1.234043  [12800/60000]\n",
            "loss: 1.002691  [19200/60000]\n",
            "loss: 1.029184  [25600/60000]\n",
            "loss: 1.351588  [32000/60000]\n",
            "loss: 1.094161  [38400/60000]\n",
            "loss: 1.160287  [44800/60000]\n",
            "loss: 1.173764  [51200/60000]\n",
            "loss: 1.018155  [57600/60000]\n",
            "Test Error: \n",
            " Accuracy: 58.8%, Avg loss: 0.017593 \n",
            "\n",
            "Epoch 12\n",
            "-------------------------------\n",
            "loss: 1.000914  [    0/60000]\n",
            "loss: 0.964039  [ 6400/60000]\n",
            "loss: 1.067126  [12800/60000]\n",
            "loss: 1.243899  [19200/60000]\n",
            "loss: 1.125487  [25600/60000]\n",
            "loss: 1.249235  [32000/60000]\n",
            "loss: 1.129393  [38400/60000]\n",
            "loss: 0.976086  [44800/60000]\n",
            "loss: 1.070506  [51200/60000]\n",
            "loss: 0.888461  [57600/60000]\n",
            "Test Error: \n",
            " Accuracy: 59.2%, Avg loss: 0.017385 \n",
            "\n",
            "Epoch 13\n",
            "-------------------------------\n",
            "loss: 1.250030  [    0/60000]\n",
            "loss: 1.132193  [ 6400/60000]\n",
            "loss: 0.984302  [12800/60000]\n",
            "loss: 1.026991  [19200/60000]\n",
            "loss: 1.192672  [25600/60000]\n",
            "loss: 1.145614  [32000/60000]\n",
            "loss: 1.081657  [38400/60000]\n",
            "loss: 0.863381  [44800/60000]\n",
            "loss: 0.980613  [51200/60000]\n",
            "loss: 1.297727  [57600/60000]\n",
            "Test Error: \n",
            " Accuracy: 59.0%, Avg loss: 0.017328 \n",
            "\n",
            "Epoch 14\n",
            "-------------------------------\n",
            "loss: 0.873764  [    0/60000]\n",
            "loss: 0.937185  [ 6400/60000]\n",
            "loss: 0.997365  [12800/60000]\n",
            "loss: 0.827006  [19200/60000]\n",
            "loss: 0.810288  [25600/60000]\n",
            "loss: 0.874902  [32000/60000]\n",
            "loss: 1.002941  [38400/60000]\n",
            "loss: 0.922001  [44800/60000]\n",
            "loss: 1.172058  [51200/60000]\n",
            "loss: 1.053047  [57600/60000]\n",
            "Test Error: \n",
            " Accuracy: 58.8%, Avg loss: 0.017376 \n",
            "\n",
            "Epoch 15\n",
            "-------------------------------\n",
            "loss: 0.977890  [    0/60000]\n",
            "loss: 1.049153  [ 6400/60000]\n",
            "loss: 1.002951  [12800/60000]\n",
            "loss: 0.942491  [19200/60000]\n",
            "loss: 1.273322  [25600/60000]\n",
            "loss: 1.132734  [32000/60000]\n",
            "loss: 1.173340  [38400/60000]\n",
            "loss: 1.066003  [44800/60000]\n",
            "loss: 1.037074  [51200/60000]\n",
            "loss: 0.981121  [57600/60000]\n",
            "Test Error: \n",
            " Accuracy: 59.1%, Avg loss: 0.017241 \n",
            "\n",
            "Epoch 16\n",
            "-------------------------------\n",
            "loss: 1.200354  [    0/60000]\n",
            "loss: 1.039970  [ 6400/60000]\n",
            "loss: 0.969749  [12800/60000]\n",
            "loss: 1.211586  [19200/60000]\n",
            "loss: 0.993898  [25600/60000]\n",
            "loss: 1.057349  [32000/60000]\n",
            "loss: 0.835529  [38400/60000]\n",
            "loss: 1.095106  [44800/60000]\n",
            "loss: 1.044451  [51200/60000]\n",
            "loss: 1.267097  [57600/60000]\n",
            "Test Error: \n",
            " Accuracy: 59.4%, Avg loss: 0.017100 \n",
            "\n",
            "Epoch 17\n",
            "-------------------------------\n",
            "loss: 1.096243  [    0/60000]\n",
            "loss: 1.312841  [ 6400/60000]\n",
            "loss: 0.914218  [12800/60000]\n",
            "loss: 0.900267  [19200/60000]\n",
            "loss: 1.051986  [25600/60000]\n",
            "loss: 1.230019  [32000/60000]\n",
            "loss: 0.999830  [38400/60000]\n",
            "loss: 0.929610  [44800/60000]\n",
            "loss: 1.353092  [51200/60000]\n",
            "loss: 1.281433  [57600/60000]\n",
            "Test Error: \n",
            " Accuracy: 59.4%, Avg loss: 0.017085 \n",
            "\n",
            "Epoch 18\n",
            "-------------------------------\n",
            "loss: 1.007351  [    0/60000]\n",
            "loss: 1.141261  [ 6400/60000]\n",
            "loss: 0.934901  [12800/60000]\n",
            "loss: 1.331514  [19200/60000]\n",
            "loss: 0.916956  [25600/60000]\n",
            "loss: 1.176500  [32000/60000]\n",
            "loss: 1.052070  [38400/60000]\n",
            "loss: 1.106127  [44800/60000]\n",
            "loss: 0.822250  [51200/60000]\n",
            "loss: 0.927647  [57600/60000]\n",
            "Test Error: \n",
            " Accuracy: 59.2%, Avg loss: 0.017088 \n",
            "\n",
            "Epoch 19\n",
            "-------------------------------\n",
            "loss: 1.128981  [    0/60000]\n",
            "loss: 0.970331  [ 6400/60000]\n",
            "loss: 0.834251  [12800/60000]\n",
            "loss: 0.863554  [19200/60000]\n",
            "loss: 1.178197  [25600/60000]\n",
            "loss: 1.012644  [32000/60000]\n",
            "loss: 0.905971  [38400/60000]\n",
            "loss: 0.968907  [44800/60000]\n",
            "loss: 1.233298  [51200/60000]\n",
            "loss: 1.060844  [57600/60000]\n",
            "Test Error: \n",
            " Accuracy: 59.6%, Avg loss: 0.016963 \n",
            "\n",
            "Epoch 20\n",
            "-------------------------------\n",
            "loss: 1.070071  [    0/60000]\n",
            "loss: 1.258418  [ 6400/60000]\n",
            "loss: 1.057070  [12800/60000]\n",
            "loss: 1.129327  [19200/60000]\n",
            "loss: 0.941226  [25600/60000]\n",
            "loss: 0.965526  [32000/60000]\n",
            "loss: 0.987982  [38400/60000]\n",
            "loss: 1.181874  [44800/60000]\n",
            "loss: 0.956403  [51200/60000]\n",
            "loss: 0.929597  [57600/60000]\n",
            "Test Error: \n",
            " Accuracy: 59.8%, Avg loss: 0.016994 \n",
            "\n",
            "Epoch 21\n",
            "-------------------------------\n",
            "loss: 1.070800  [    0/60000]\n",
            "loss: 0.937007  [ 6400/60000]\n",
            "loss: 0.972033  [12800/60000]\n",
            "loss: 0.916586  [19200/60000]\n",
            "loss: 1.153253  [25600/60000]\n",
            "loss: 1.104904  [32000/60000]\n",
            "loss: 0.969246  [38400/60000]\n",
            "loss: 1.158834  [44800/60000]\n",
            "loss: 1.054343  [51200/60000]\n",
            "loss: 0.987965  [57600/60000]\n",
            "Test Error: \n",
            " Accuracy: 59.7%, Avg loss: 0.016945 \n",
            "\n",
            "Epoch 22\n",
            "-------------------------------\n",
            "loss: 1.243350  [    0/60000]\n",
            "loss: 0.988209  [ 6400/60000]\n",
            "loss: 1.000831  [12800/60000]\n",
            "loss: 0.952206  [19200/60000]\n",
            "loss: 0.983096  [25600/60000]\n",
            "loss: 1.072499  [32000/60000]\n",
            "loss: 1.322700  [38400/60000]\n",
            "loss: 1.121918  [44800/60000]\n",
            "loss: 0.947452  [51200/60000]\n",
            "loss: 1.071333  [57600/60000]\n",
            "Test Error: \n",
            " Accuracy: 59.6%, Avg loss: 0.016939 \n",
            "\n",
            "Epoch 23\n",
            "-------------------------------\n",
            "loss: 1.032564  [    0/60000]\n",
            "loss: 0.918942  [ 6400/60000]\n",
            "loss: 1.195882  [12800/60000]\n",
            "loss: 0.991430  [19200/60000]\n",
            "loss: 1.036789  [25600/60000]\n",
            "loss: 0.917974  [32000/60000]\n",
            "loss: 0.932371  [38400/60000]\n",
            "loss: 0.871182  [44800/60000]\n",
            "loss: 1.049066  [51200/60000]\n",
            "loss: 1.035763  [57600/60000]\n",
            "Test Error: \n",
            " Accuracy: 60.0%, Avg loss: 0.016766 \n",
            "\n",
            "Epoch 24\n",
            "-------------------------------\n",
            "loss: 1.089148  [    0/60000]\n",
            "loss: 0.945169  [ 6400/60000]\n",
            "loss: 1.071507  [12800/60000]\n",
            "loss: 0.982757  [19200/60000]\n",
            "loss: 1.181541  [25600/60000]\n",
            "loss: 0.988504  [32000/60000]\n",
            "loss: 1.019333  [38400/60000]\n",
            "loss: 0.728562  [44800/60000]\n",
            "loss: 0.915516  [51200/60000]\n",
            "loss: 0.933377  [57600/60000]\n",
            "Test Error: \n",
            " Accuracy: 60.0%, Avg loss: 0.016791 \n",
            "\n",
            "Epoch 25\n",
            "-------------------------------\n",
            "loss: 1.245109  [    0/60000]\n",
            "loss: 0.914411  [ 6400/60000]\n",
            "loss: 1.003235  [12800/60000]\n",
            "loss: 0.920196  [19200/60000]\n",
            "loss: 1.074039  [25600/60000]\n",
            "loss: 1.077963  [32000/60000]\n",
            "loss: 0.968962  [38400/60000]\n",
            "loss: 0.915149  [44800/60000]\n",
            "loss: 0.955648  [51200/60000]\n",
            "loss: 1.214608  [57600/60000]\n",
            "Test Error: \n",
            " Accuracy: 60.3%, Avg loss: 0.016650 \n",
            "\n",
            "Done!\n"
          ]
        }
      ],
      "source": [
        "loss_fn = nn.CrossEntropyLoss()\n",
        "optimizer = torch.optim.SGD(model.parameters(), lr=learning_rate)\n",
        "\n",
        "for t in range(epochs):\n",
        "    print(f\"Epoch {t+1}\\n-------------------------------\")\n",
        "    train_loop(train_dataloader, model, loss_fn, optimizer)\n",
        "    test_loop(test_dataloader, model, loss_fn)\n",
        "print(\"Done!\")"
      ]
    },
    {
      "cell_type": "markdown",
      "metadata": {
        "id": "9_Q7EoHPgUrj"
      },
      "source": [
        "--------------\n",
        "\n",
        "\n"
      ]
    },
    {
      "cell_type": "code",
      "source": [
        "classes = [\n",
        "    \"T-shirt/top\",\n",
        "    \"Trouser\",\n",
        "    \"Pullover\",\n",
        "    \"Dress\",\n",
        "    \"Coat\",\n",
        "    \"Sandal\",\n",
        "    \"Shirt\",\n",
        "    \"Sneaker\",\n",
        "    \"Bag\",\n",
        "    \"Ankle boot\",\n",
        "]\n",
        "\n",
        "model.eval()\n",
        "x, y = test_data[0][0], test_data[0][1]\n",
        "with torch.no_grad():\n",
        "    pred = model(x)\n",
        "    predicted, actual = classes[pred[0].argmax(0)], classes[y]\n",
        "    print(f'Predicted: \"{predicted}\", Actual: \"{actual}\"')"
      ],
      "metadata": {
        "colab": {
          "base_uri": "https://localhost:8080/"
        },
        "id": "-x4-3UufiuI2",
        "outputId": "15a415fd-ae6a-48f3-9390-6c52ded2517c"
      },
      "execution_count": 23,
      "outputs": [
        {
          "output_type": "stream",
          "name": "stdout",
          "text": [
            "Predicted: \"Ankle boot\", Actual: \"Ankle boot\"\n"
          ]
        }
      ]
    },
    {
      "cell_type": "markdown",
      "metadata": {
        "id": "gD3Ur_m2gUrj"
      },
      "source": [
        "Saving Models\n",
        "-------------\n",
        "A common way to save a model is to serialize the internal state dictionary (containing the model parameters).\n",
        "\n"
      ]
    },
    {
      "cell_type": "code",
      "execution_count": 24,
      "metadata": {
        "colab": {
          "base_uri": "https://localhost:8080/",
          "height": 66,
          "referenced_widgets": [
            "1558c4fcc1ff4aa9a77d263d2aa7fdce",
            "15bfa945eed14b48b57a8148d3e88ea1",
            "b00c2f8fb14940edbdf0bde09c16576d",
            "4c99ba58c2bb4fe0aa50182e42259a4c",
            "0b855b74708540d5a2187c535e34c24d",
            "7e21a5bbfcad429f971dda8b95116371",
            "d3c319d1b88a404b9ec0794187493c00",
            "f5b303cdeb2846f6a9a0a6d9c059740f",
            "c05635fb13664e25b58c71795f33869d",
            "be96a706c8df4c6db6f3938c544834d0",
            "d16effd754b24737afc377249e96775f"
          ]
        },
        "id": "sANRO1mDgUrj",
        "outputId": "752bf333-5391-43b5-9fe7-a556df0a1c0a"
      },
      "outputs": [
        {
          "output_type": "stream",
          "name": "stderr",
          "text": [
            "Downloading: \"https://download.pytorch.org/models/vgg16-397923af.pth\" to /root/.cache/torch/hub/checkpoints/vgg16-397923af.pth\n"
          ]
        },
        {
          "output_type": "display_data",
          "data": {
            "text/plain": [
              "  0%|          | 0.00/528M [00:00<?, ?B/s]"
            ],
            "application/vnd.jupyter.widget-view+json": {
              "version_major": 2,
              "version_minor": 0,
              "model_id": "1558c4fcc1ff4aa9a77d263d2aa7fdce"
            }
          },
          "metadata": {}
        }
      ],
      "source": [
        "model = models.vgg16(pretrained=True)\n",
        "torch.save(model.state_dict(), 'model_weights.pth')"
      ]
    },
    {
      "cell_type": "markdown",
      "metadata": {
        "id": "1nX_V0fSgUrj"
      },
      "source": [
        "Loading Models\n",
        "----------------------------\n",
        "\n",
        "The process for loading a model includes re-creating the model structure and loading\n",
        "the state dictionary into it. \n",
        "\n"
      ]
    },
    {
      "cell_type": "code",
      "execution_count": 25,
      "metadata": {
        "colab": {
          "base_uri": "https://localhost:8080/"
        },
        "id": "HNLC7ZAogUrj",
        "outputId": "e0c79f36-b8ac-442a-82cb-ef0d1e2580d7"
      },
      "outputs": [
        {
          "output_type": "execute_result",
          "data": {
            "text/plain": [
              "<All keys matched successfully>"
            ]
          },
          "metadata": {},
          "execution_count": 25
        }
      ],
      "source": [
        "model = models.vgg16() # we do not specify pretrained=True, i.e. do not load default weights\n",
        "model.load_state_dict(torch.load('model_weights.pth'))"
      ]
    },
    {
      "cell_type": "markdown",
      "metadata": {
        "id": "gXX5AQMsgUrk"
      },
      "source": [
        "This model can now be used to make predictions.\n",
        "\n"
      ]
    },
    {
      "cell_type": "code",
      "execution_count": 25,
      "metadata": {
        "id": "26PyGQz3gUrk"
      },
      "outputs": [],
      "source": [
        ""
      ]
    },
    {
      "cell_type": "code",
      "execution_count": null,
      "metadata": {
        "id": "nbxYKzWAgUrk"
      },
      "outputs": [],
      "source": [
        ""
      ]
    },
    {
      "cell_type": "code",
      "execution_count": null,
      "metadata": {
        "id": "zhmI1x2ogUrk"
      },
      "outputs": [],
      "source": [
        ""
      ]
    }
  ],
  "metadata": {
    "kernelspec": {
      "display_name": "Python 3",
      "language": "python",
      "name": "python3"
    },
    "language_info": {
      "codemirror_mode": {
        "name": "ipython",
        "version": 3
      },
      "file_extension": ".py",
      "mimetype": "text/x-python",
      "name": "python",
      "nbconvert_exporter": "python",
      "pygments_lexer": "ipython3",
      "version": "3.7.6"
    },
    "colab": {
      "name": "Task2_NN_FashionMNIST_PyTorch.ipynb",
      "provenance": [],
      "collapsed_sections": [],
      "include_colab_link": true
    },
    "widgets": {
      "application/vnd.jupyter.widget-state+json": {
        "1558c4fcc1ff4aa9a77d263d2aa7fdce": {
          "model_module": "@jupyter-widgets/controls",
          "model_name": "HBoxModel",
          "model_module_version": "1.5.0",
          "state": {
            "_dom_classes": [],
            "_model_module": "@jupyter-widgets/controls",
            "_model_module_version": "1.5.0",
            "_model_name": "HBoxModel",
            "_view_count": null,
            "_view_module": "@jupyter-widgets/controls",
            "_view_module_version": "1.5.0",
            "_view_name": "HBoxView",
            "box_style": "",
            "children": [
              "IPY_MODEL_15bfa945eed14b48b57a8148d3e88ea1",
              "IPY_MODEL_b00c2f8fb14940edbdf0bde09c16576d",
              "IPY_MODEL_4c99ba58c2bb4fe0aa50182e42259a4c"
            ],
            "layout": "IPY_MODEL_0b855b74708540d5a2187c535e34c24d"
          }
        },
        "15bfa945eed14b48b57a8148d3e88ea1": {
          "model_module": "@jupyter-widgets/controls",
          "model_name": "HTMLModel",
          "model_module_version": "1.5.0",
          "state": {
            "_dom_classes": [],
            "_model_module": "@jupyter-widgets/controls",
            "_model_module_version": "1.5.0",
            "_model_name": "HTMLModel",
            "_view_count": null,
            "_view_module": "@jupyter-widgets/controls",
            "_view_module_version": "1.5.0",
            "_view_name": "HTMLView",
            "description": "",
            "description_tooltip": null,
            "layout": "IPY_MODEL_7e21a5bbfcad429f971dda8b95116371",
            "placeholder": "​",
            "style": "IPY_MODEL_d3c319d1b88a404b9ec0794187493c00",
            "value": "100%"
          }
        },
        "b00c2f8fb14940edbdf0bde09c16576d": {
          "model_module": "@jupyter-widgets/controls",
          "model_name": "FloatProgressModel",
          "model_module_version": "1.5.0",
          "state": {
            "_dom_classes": [],
            "_model_module": "@jupyter-widgets/controls",
            "_model_module_version": "1.5.0",
            "_model_name": "FloatProgressModel",
            "_view_count": null,
            "_view_module": "@jupyter-widgets/controls",
            "_view_module_version": "1.5.0",
            "_view_name": "ProgressView",
            "bar_style": "success",
            "description": "",
            "description_tooltip": null,
            "layout": "IPY_MODEL_f5b303cdeb2846f6a9a0a6d9c059740f",
            "max": 553433881,
            "min": 0,
            "orientation": "horizontal",
            "style": "IPY_MODEL_c05635fb13664e25b58c71795f33869d",
            "value": 553433881
          }
        },
        "4c99ba58c2bb4fe0aa50182e42259a4c": {
          "model_module": "@jupyter-widgets/controls",
          "model_name": "HTMLModel",
          "model_module_version": "1.5.0",
          "state": {
            "_dom_classes": [],
            "_model_module": "@jupyter-widgets/controls",
            "_model_module_version": "1.5.0",
            "_model_name": "HTMLModel",
            "_view_count": null,
            "_view_module": "@jupyter-widgets/controls",
            "_view_module_version": "1.5.0",
            "_view_name": "HTMLView",
            "description": "",
            "description_tooltip": null,
            "layout": "IPY_MODEL_be96a706c8df4c6db6f3938c544834d0",
            "placeholder": "​",
            "style": "IPY_MODEL_d16effd754b24737afc377249e96775f",
            "value": " 528M/528M [00:02&lt;00:00, 189MB/s]"
          }
        },
        "0b855b74708540d5a2187c535e34c24d": {
          "model_module": "@jupyter-widgets/base",
          "model_name": "LayoutModel",
          "model_module_version": "1.2.0",
          "state": {
            "_model_module": "@jupyter-widgets/base",
            "_model_module_version": "1.2.0",
            "_model_name": "LayoutModel",
            "_view_count": null,
            "_view_module": "@jupyter-widgets/base",
            "_view_module_version": "1.2.0",
            "_view_name": "LayoutView",
            "align_content": null,
            "align_items": null,
            "align_self": null,
            "border": null,
            "bottom": null,
            "display": null,
            "flex": null,
            "flex_flow": null,
            "grid_area": null,
            "grid_auto_columns": null,
            "grid_auto_flow": null,
            "grid_auto_rows": null,
            "grid_column": null,
            "grid_gap": null,
            "grid_row": null,
            "grid_template_areas": null,
            "grid_template_columns": null,
            "grid_template_rows": null,
            "height": null,
            "justify_content": null,
            "justify_items": null,
            "left": null,
            "margin": null,
            "max_height": null,
            "max_width": null,
            "min_height": null,
            "min_width": null,
            "object_fit": null,
            "object_position": null,
            "order": null,
            "overflow": null,
            "overflow_x": null,
            "overflow_y": null,
            "padding": null,
            "right": null,
            "top": null,
            "visibility": null,
            "width": null
          }
        },
        "7e21a5bbfcad429f971dda8b95116371": {
          "model_module": "@jupyter-widgets/base",
          "model_name": "LayoutModel",
          "model_module_version": "1.2.0",
          "state": {
            "_model_module": "@jupyter-widgets/base",
            "_model_module_version": "1.2.0",
            "_model_name": "LayoutModel",
            "_view_count": null,
            "_view_module": "@jupyter-widgets/base",
            "_view_module_version": "1.2.0",
            "_view_name": "LayoutView",
            "align_content": null,
            "align_items": null,
            "align_self": null,
            "border": null,
            "bottom": null,
            "display": null,
            "flex": null,
            "flex_flow": null,
            "grid_area": null,
            "grid_auto_columns": null,
            "grid_auto_flow": null,
            "grid_auto_rows": null,
            "grid_column": null,
            "grid_gap": null,
            "grid_row": null,
            "grid_template_areas": null,
            "grid_template_columns": null,
            "grid_template_rows": null,
            "height": null,
            "justify_content": null,
            "justify_items": null,
            "left": null,
            "margin": null,
            "max_height": null,
            "max_width": null,
            "min_height": null,
            "min_width": null,
            "object_fit": null,
            "object_position": null,
            "order": null,
            "overflow": null,
            "overflow_x": null,
            "overflow_y": null,
            "padding": null,
            "right": null,
            "top": null,
            "visibility": null,
            "width": null
          }
        },
        "d3c319d1b88a404b9ec0794187493c00": {
          "model_module": "@jupyter-widgets/controls",
          "model_name": "DescriptionStyleModel",
          "model_module_version": "1.5.0",
          "state": {
            "_model_module": "@jupyter-widgets/controls",
            "_model_module_version": "1.5.0",
            "_model_name": "DescriptionStyleModel",
            "_view_count": null,
            "_view_module": "@jupyter-widgets/base",
            "_view_module_version": "1.2.0",
            "_view_name": "StyleView",
            "description_width": ""
          }
        },
        "f5b303cdeb2846f6a9a0a6d9c059740f": {
          "model_module": "@jupyter-widgets/base",
          "model_name": "LayoutModel",
          "model_module_version": "1.2.0",
          "state": {
            "_model_module": "@jupyter-widgets/base",
            "_model_module_version": "1.2.0",
            "_model_name": "LayoutModel",
            "_view_count": null,
            "_view_module": "@jupyter-widgets/base",
            "_view_module_version": "1.2.0",
            "_view_name": "LayoutView",
            "align_content": null,
            "align_items": null,
            "align_self": null,
            "border": null,
            "bottom": null,
            "display": null,
            "flex": null,
            "flex_flow": null,
            "grid_area": null,
            "grid_auto_columns": null,
            "grid_auto_flow": null,
            "grid_auto_rows": null,
            "grid_column": null,
            "grid_gap": null,
            "grid_row": null,
            "grid_template_areas": null,
            "grid_template_columns": null,
            "grid_template_rows": null,
            "height": null,
            "justify_content": null,
            "justify_items": null,
            "left": null,
            "margin": null,
            "max_height": null,
            "max_width": null,
            "min_height": null,
            "min_width": null,
            "object_fit": null,
            "object_position": null,
            "order": null,
            "overflow": null,
            "overflow_x": null,
            "overflow_y": null,
            "padding": null,
            "right": null,
            "top": null,
            "visibility": null,
            "width": null
          }
        },
        "c05635fb13664e25b58c71795f33869d": {
          "model_module": "@jupyter-widgets/controls",
          "model_name": "ProgressStyleModel",
          "model_module_version": "1.5.0",
          "state": {
            "_model_module": "@jupyter-widgets/controls",
            "_model_module_version": "1.5.0",
            "_model_name": "ProgressStyleModel",
            "_view_count": null,
            "_view_module": "@jupyter-widgets/base",
            "_view_module_version": "1.2.0",
            "_view_name": "StyleView",
            "bar_color": null,
            "description_width": ""
          }
        },
        "be96a706c8df4c6db6f3938c544834d0": {
          "model_module": "@jupyter-widgets/base",
          "model_name": "LayoutModel",
          "model_module_version": "1.2.0",
          "state": {
            "_model_module": "@jupyter-widgets/base",
            "_model_module_version": "1.2.0",
            "_model_name": "LayoutModel",
            "_view_count": null,
            "_view_module": "@jupyter-widgets/base",
            "_view_module_version": "1.2.0",
            "_view_name": "LayoutView",
            "align_content": null,
            "align_items": null,
            "align_self": null,
            "border": null,
            "bottom": null,
            "display": null,
            "flex": null,
            "flex_flow": null,
            "grid_area": null,
            "grid_auto_columns": null,
            "grid_auto_flow": null,
            "grid_auto_rows": null,
            "grid_column": null,
            "grid_gap": null,
            "grid_row": null,
            "grid_template_areas": null,
            "grid_template_columns": null,
            "grid_template_rows": null,
            "height": null,
            "justify_content": null,
            "justify_items": null,
            "left": null,
            "margin": null,
            "max_height": null,
            "max_width": null,
            "min_height": null,
            "min_width": null,
            "object_fit": null,
            "object_position": null,
            "order": null,
            "overflow": null,
            "overflow_x": null,
            "overflow_y": null,
            "padding": null,
            "right": null,
            "top": null,
            "visibility": null,
            "width": null
          }
        },
        "d16effd754b24737afc377249e96775f": {
          "model_module": "@jupyter-widgets/controls",
          "model_name": "DescriptionStyleModel",
          "model_module_version": "1.5.0",
          "state": {
            "_model_module": "@jupyter-widgets/controls",
            "_model_module_version": "1.5.0",
            "_model_name": "DescriptionStyleModel",
            "_view_count": null,
            "_view_module": "@jupyter-widgets/base",
            "_view_module_version": "1.2.0",
            "_view_name": "StyleView",
            "description_width": ""
          }
        }
      }
    }
  },
  "nbformat": 4,
  "nbformat_minor": 0
}